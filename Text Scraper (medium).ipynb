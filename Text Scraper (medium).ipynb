{
 "cells": [
  {
   "cell_type": "markdown",
   "metadata": {},
   "source": [
    "# Project Outline \n",
    "This is a scraper to scrape medium articles. "
   ]
  },
  {
   "cell_type": "code",
   "execution_count": 1,
   "metadata": {},
   "outputs": [],
   "source": [
    "import requests as r\n",
    "from bs4 import BeautifulSoup as bs\n",
    "import json\n",
    "import pandas"
   ]
  },
  {
   "cell_type": "code",
   "execution_count": 2,
   "metadata": {},
   "outputs": [],
   "source": [
    "req = r.get('https://towardsdatascience.com')\n",
    "soup = bs(req.text,'html.parser')"
   ]
  },
  {
   "cell_type": "code",
   "execution_count": null,
   "metadata": {},
   "outputs": [],
   "source": []
  },
  {
   "cell_type": "code",
   "execution_count": 3,
   "metadata": {},
   "outputs": [],
   "source": [
    "# get the articles section\n",
    "page = soup.find(class_=\"u-marginBottom40 js-collectionStream\")"
   ]
  },
  {
   "cell_type": "code",
   "execution_count": null,
   "metadata": {},
   "outputs": [],
   "source": []
  },
  {
   "cell_type": "code",
   "execution_count": 4,
   "metadata": {},
   "outputs": [
    {
     "data": {
      "text/plain": [
       "11"
      ]
     },
     "execution_count": 4,
     "metadata": {},
     "output_type": "execute_result"
    }
   ],
   "source": [
    "titles = soup.find_all(class_ = 'u-letterSpacingTight u-lineHeightTighter u-breakWord u-textOverflowEllipsis u-lineClamp3 u-fontSize24')\n",
    "len(titles)"
   ]
  },
  {
   "cell_type": "code",
   "execution_count": 5,
   "metadata": {},
   "outputs": [
    {
     "data": {
      "text/plain": [
       "[<div class=\"u-letterSpacingTight u-lineHeightTighter u-breakWord u-textOverflowEllipsis u-lineClamp3 u-fontSize24\">The Big O Notation</div>,\n",
       " <div class=\"u-letterSpacingTight u-lineHeightTighter u-breakWord u-textOverflowEllipsis u-lineClamp3 u-fontSize24\">How to Use Causal Inference in Day-to-Day Analytical Work— Part 2 of 2</div>,\n",
       " <div class=\"u-letterSpacingTight u-lineHeightTighter u-breakWord u-textOverflowEllipsis u-lineClamp3 u-fontSize24\">Don’t Stop at Ensembles — Unconventional Deep Learning Techniques for Tabular Data</div>,\n",
       " <div class=\"u-letterSpacingTight u-lineHeightTighter u-breakWord u-textOverflowEllipsis u-lineClamp3 u-fontSize24\">The curious case of developmental BERTology</div>,\n",
       " <div class=\"u-letterSpacingTight u-lineHeightTighter u-breakWord u-textOverflowEllipsis u-lineClamp3 u-fontSize24\">Using sentence embeddings to explore the similarities and differences in song lyrics</div>,\n",
       " <div class=\"u-letterSpacingTight u-lineHeightTighter u-breakWord u-textOverflowEllipsis u-lineClamp3 u-fontSize24\">The stupidly easy way to predict stock prices using machine learning</div>,\n",
       " <div class=\"u-letterSpacingTight u-lineHeightTighter u-breakWord u-textOverflowEllipsis u-lineClamp3 u-fontSize24\">Properties in Python: Fundamentals for Data Scientists</div>,\n",
       " <div class=\"u-letterSpacingTight u-lineHeightTighter u-breakWord u-textOverflowEllipsis u-lineClamp3 u-fontSize24\">The Guide to Multi-Tasking with the T5 Transformer</div>,\n",
       " <div class=\"u-letterSpacingTight u-lineHeightTighter u-breakWord u-textOverflowEllipsis u-lineClamp3 u-fontSize24\">Grouping Soccer Players with Similar Skillsets in FIFA 20 | Part 2: Hierarchical Clustering</div>,\n",
       " <div class=\"u-letterSpacingTight u-lineHeightTighter u-breakWord u-textOverflowEllipsis u-lineClamp3 u-fontSize24\">Probabilistic Predictions</div>,\n",
       " <div class=\"u-letterSpacingTight u-lineHeightTighter u-breakWord u-textOverflowEllipsis u-lineClamp3 u-fontSize24\">Lecture Notes in Deep Learning: Introduction — Part 5</div>]"
      ]
     },
     "execution_count": 5,
     "metadata": {},
     "output_type": "execute_result"
    }
   ],
   "source": [
    "titles"
   ]
  },
  {
   "cell_type": "code",
   "execution_count": 6,
   "metadata": {},
   "outputs": [
    {
     "name": "stdout",
     "output_type": "stream",
     "text": [
      "The Big O Notation\n",
      "How to Use Causal Inference in Day-to-Day Analytical Work— Part 2 of 2\n",
      "Don’t Stop at Ensembles — Unconventional Deep Learning Techniques for Tabular Data\n",
      "The curious case of developmental BERTology\n",
      "Using sentence embeddings to explore the similarities and differences in song lyrics\n",
      "The stupidly easy way to predict stock prices using machine learning\n",
      "Properties in Python: Fundamentals for Data Scientists\n",
      "The Guide to Multi-Tasking with the T5 Transformer\n",
      "Grouping Soccer Players with Similar Skillsets in FIFA 20 | Part 2: Hierarchical Clustering\n",
      "Probabilistic Predictions\n",
      "Lecture Notes in Deep Learning: Introduction — Part 5\n"
     ]
    }
   ],
   "source": [
    "for title in titles:\n",
    "    print(title.get_text())"
   ]
  },
  {
   "cell_type": "markdown",
   "metadata": {},
   "source": [
    "### Blocker\n",
    "when requesting access to the towards data science webpage, not all of the content was loaded in. This problem occurs because the content is dynamic and the rest of the webpage is only rendered once we scroll down far enough to reach it. \n",
    "\n",
    "### Solution\n",
    "Using "
   ]
  },
  {
   "cell_type": "code",
   "execution_count": 7,
   "metadata": {},
   "outputs": [],
   "source": [
    "from selenium import webdriver"
   ]
  },
  {
   "cell_type": "code",
   "execution_count": 10,
   "metadata": {},
   "outputs": [
    {
     "ename": "SyntaxError",
     "evalue": "(unicode error) 'unicodeescape' codec can't decode bytes in position 2-3: truncated \\UXXXXXXXX escape (<ipython-input-10-38c6c60757c7>, line 1)",
     "output_type": "error",
     "traceback": [
      "\u001b[1;36m  File \u001b[1;32m\"<ipython-input-10-38c6c60757c7>\"\u001b[1;36m, line \u001b[1;32m1\u001b[0m\n\u001b[1;33m    driver = webdriver.Chrome(\"C:\\Users\\gabe5\\Documents\\chromedriver\\chromedriver.exe\")\u001b[0m\n\u001b[1;37m                             ^\u001b[0m\n\u001b[1;31mSyntaxError\u001b[0m\u001b[1;31m:\u001b[0m (unicode error) 'unicodeescape' codec can't decode bytes in position 2-3: truncated \\UXXXXXXXX escape\n"
     ]
    }
   ],
   "source": [
    "driver = webdriver.Chrome(\"C:\\Users\\gabe5\\Documents\\chromedriver\\chromedriver.exe\")\n",
    "url = 'https://towardsdatascience.com'\n",
    "driver.get(url)\n",
    "soup = bs(driver.page_source,'html.parser')"
   ]
  },
  {
   "cell_type": "code",
   "execution_count": null,
   "metadata": {},
   "outputs": [],
   "source": []
  }
 ],
 "metadata": {
  "kernelspec": {
   "display_name": "Python 3",
   "language": "python",
   "name": "python3"
  },
  "language_info": {
   "codemirror_mode": {
    "name": "ipython",
    "version": 3
   },
   "file_extension": ".py",
   "mimetype": "text/x-python",
   "name": "python",
   "nbconvert_exporter": "python",
   "pygments_lexer": "ipython3",
   "version": "3.7.4"
  }
 },
 "nbformat": 4,
 "nbformat_minor": 2
}
