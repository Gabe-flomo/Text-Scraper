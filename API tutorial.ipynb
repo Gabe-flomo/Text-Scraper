{
 "cells": [
  {
   "cell_type": "code",
   "execution_count": 4,
   "metadata": {},
   "outputs": [],
   "source": [
    "import requests as r\n",
    "import json"
   ]
  },
  {
   "cell_type": "markdown",
   "metadata": {},
   "source": [
    "# [APIs in Python](https://medium.com/quick-code/absolute-beginners-guide-to-slaying-apis-using-python-7b380dc82236)\n",
    "To work with web API, firstly we need to choose a web service that serves its data over an API. For our example we ll work with Open Notify API. A simple API serving NASA’s awesome data.\n",
    "\n",
    "\n",
    "\n",
    "\n",
    "#### Get Requests\n",
    "GET is used to request data from a specified resource.\n",
    "\n",
    "if we just make a request to a url without the right endpoint, we get the html content as response.\n",
    "\n"
   ]
  },
  {
   "cell_type": "code",
   "execution_count": 11,
   "metadata": {},
   "outputs": [],
   "source": [
    "request = r.get(r'http://api.open-notify.org')\n",
    "# .text will let us see the HTML, without it you'd get <Response [200]>\n",
    "# print(request.text)"
   ]
  },
  {
   "cell_type": "markdown",
   "metadata": {},
   "source": [
    "### Status codes\n",
    "if a request returns a status code 200 then everything is OK, if it returns 404 then the page or resource was not found.\n",
    "\n",
    "```python\n",
    "request2 = requests.get(‘http://api.open-notify.org/fake-endpoint')\n",
    "print(request2.status_code)\n",
    "404\n",
    "```"
   ]
  },
  {
   "cell_type": "code",
   "execution_count": 12,
   "metadata": {},
   "outputs": [
    {
     "data": {
      "text/plain": [
       "200"
      ]
     },
     "execution_count": 12,
     "metadata": {},
     "output_type": "execute_result"
    }
   ],
   "source": [
    "request.status_code"
   ]
  },
  {
   "cell_type": "markdown",
   "metadata": {},
   "source": [
    "#### Endpoints\n",
    "End points are the location of the resources, by hitting the right end point we can retrieve the data we need.\n",
    "\n",
    "Lets try to find the number of people in space."
   ]
  },
  {
   "cell_type": "code",
   "execution_count": 15,
   "metadata": {},
   "outputs": [
    {
     "data": {
      "text/plain": [
       "'{\"message\": \"success\", \"number\": 5, \"people\": [{\"craft\": \"ISS\", \"name\": \"Chris Cassidy\"}, {\"craft\": \"ISS\", \"name\": \"Anatoly Ivanishin\"}, {\"craft\": \"ISS\", \"name\": \"Ivan Vagner\"}, {\"craft\": \"ISS\", \"name\": \"Doug Hurley\"}, {\"craft\": \"ISS\", \"name\": \"Bob Behnken\"}]}'"
      ]
     },
     "execution_count": 15,
     "metadata": {},
     "output_type": "execute_result"
    }
   ],
   "source": [
    "ppl = r.get('http://api.open-notify.org/astros.json')\n",
    "ppl.text"
   ]
  },
  {
   "cell_type": "markdown",
   "metadata": {},
   "source": [
    "#### JSON\n",
    "Earlier we introduced json, most APIs return a json, luckily requests has a built in json decode method, that can turn our data into a native python datatype and make it easier to read."
   ]
  },
  {
   "cell_type": "code",
   "execution_count": 18,
   "metadata": {},
   "outputs": [
    {
     "data": {
      "text/plain": [
       "{'message': 'success',\n",
       " 'number': 5,\n",
       " 'people': [{'craft': 'ISS', 'name': 'Chris Cassidy'},\n",
       "  {'craft': 'ISS', 'name': 'Anatoly Ivanishin'},\n",
       "  {'craft': 'ISS', 'name': 'Ivan Vagner'},\n",
       "  {'craft': 'ISS', 'name': 'Doug Hurley'},\n",
       "  {'craft': 'ISS', 'name': 'Bob Behnken'}]}"
      ]
     },
     "execution_count": 18,
     "metadata": {},
     "output_type": "execute_result"
    }
   ],
   "source": [
    "pjs = ppl.json()\n",
    "pjs"
   ]
  },
  {
   "cell_type": "code",
   "execution_count": 19,
   "metadata": {},
   "outputs": [
    {
     "data": {
      "text/plain": [
       "[{'craft': 'ISS', 'name': 'Chris Cassidy'},\n",
       " {'craft': 'ISS', 'name': 'Anatoly Ivanishin'},\n",
       " {'craft': 'ISS', 'name': 'Ivan Vagner'},\n",
       " {'craft': 'ISS', 'name': 'Doug Hurley'},\n",
       " {'craft': 'ISS', 'name': 'Bob Behnken'}]"
      ]
     },
     "execution_count": 19,
     "metadata": {},
     "output_type": "execute_result"
    }
   ],
   "source": [
    "# just the people \n",
    "pjs['people']"
   ]
  },
  {
   "cell_type": "code",
   "execution_count": 21,
   "metadata": {},
   "outputs": [
    {
     "name": "stdout",
     "output_type": "stream",
     "text": [
      "Number of people in space: 5\n",
      "Chris Cassidy\n",
      "Anatoly Ivanishin\n",
      "Ivan Vagner\n",
      "Doug Hurley\n",
      "Bob Behnken\n"
     ]
    }
   ],
   "source": [
    "print(f'Number of people in space: {pjs[\"number\"]}')\n",
    "for p in pjs['people']:\n",
    "      print(p['name'])"
   ]
  },
  {
   "cell_type": "code",
   "execution_count": null,
   "metadata": {},
   "outputs": [],
   "source": []
  }
 ],
 "metadata": {
  "kernelspec": {
   "display_name": "Python 3",
   "language": "python",
   "name": "python3"
  },
  "language_info": {
   "codemirror_mode": {
    "name": "ipython",
    "version": 3
   },
   "file_extension": ".py",
   "mimetype": "text/x-python",
   "name": "python",
   "nbconvert_exporter": "python",
   "pygments_lexer": "ipython3",
   "version": "3.7.4"
  }
 },
 "nbformat": 4,
 "nbformat_minor": 2
}
